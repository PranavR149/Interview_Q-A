{
 "cells": [
  {
   "cell_type": "code",
   "execution_count": 3,
   "id": "1ce19994",
   "metadata": {},
   "outputs": [],
   "source": [
    "import streamlit as st\n",
    "import os\n",
    "from langchain_groq import ChatGroq\n",
    "from langchain.text_splitter import RecursiveCharacterTextSplitter\n",
    "from langchain.chains.combine_documents import create_stuff_documents_chain\n",
    "from langchain_core.prompts import ChatPromptTemplate\n",
    "from langchain.chains import create_retrieval_chain\n",
    "from langchain_community.vectorstores import FAISS\n",
    "from langchain_community.document_loaders import PyPDFDirectoryLoader\n",
    "from langchain_google_genai import GoogleGenerativeAIEmbeddings\n",
    "from dotenv import load_dotenv\n",
    "import os\n",
    "import time"
   ]
  },
  {
   "cell_type": "code",
   "execution_count": null,
   "id": "52768176",
   "metadata": {},
   "outputs": [],
   "source": [
    "load_dotenv()"
   ]
  },
  {
   "cell_type": "code",
   "execution_count": null,
   "id": "83a95092",
   "metadata": {},
   "outputs": [],
   "source": [
    "## load the GROQ And OpenAI API KEY \n",
    "groq_api_key=os.getenv('GROQ_API_KEY')\n",
    "os.environ[\"GOOGLE_API_KEY\"]=os.getenv(\"GOOGLE_API_KEY\")"
   ]
  },
  {
   "cell_type": "code",
   "execution_count": null,
   "id": "4cf75b70",
   "metadata": {},
   "outputs": [],
   "source": [
    "st.title(\"Llama Model - SQL Interview Preparation Q&A\")\n",
    "\n",
    "llm=ChatGroq(groq_api_key=groq_api_key,\n",
    "             model_name=\"Llama3-8b-8192\")"
   ]
  },
  {
   "cell_type": "code",
   "execution_count": null,
   "id": "a3d02063",
   "metadata": {},
   "outputs": [],
   "source": [
    "prompt=ChatPromptTemplate.from_template(\n",
    "\"\"\"\n",
    "Answer the questions based on the provided context only.\n",
    "Please provide the most accurate response based on the given question.\n",
    "<context>\n",
    "{context}\n",
    "<context>\n",
    "Questions:{input}\n",
    "\n",
    "\"\"\"\n",
    ")"
   ]
  },
  {
   "cell_type": "code",
   "execution_count": null,
   "id": "b30db1ab",
   "metadata": {},
   "outputs": [],
   "source": [
    "def vector_embedding():\n",
    "\n",
    "    if \"vectors\" not in st.session_state:\n",
    "\n",
    "        st.session_state.embeddings=GoogleGenerativeAIEmbeddings(model = \"models/embedding-001\")\n",
    "        st.session_state.loader=PyPDFDirectoryLoader(\"./interview\") ## Data Ingestion\n",
    "        st.session_state.docs=st.session_state.loader.load() ## Document Loading\n",
    "        st.session_state.text_splitter=RecursiveCharacterTextSplitter(chunk_size=1000,chunk_overlap=200) ## Chunk Creation\n",
    "        st.session_state.final_documents=st.session_state.text_splitter.split_documents(st.session_state.docs[:20]) #splitting\n",
    "        st.session_state.vectors=FAISS.from_documents(st.session_state.final_documents,st.session_state.embeddings) #vector OpenAI embeddings"
   ]
  },
  {
   "cell_type": "code",
   "execution_count": null,
   "id": "23fdabaf",
   "metadata": {},
   "outputs": [],
   "source": [
    "prompt1=st.text_input(\"Ask any question related to SQL?\")\n",
    "\n",
    "if st.button(\"Documents Embedding\"):\n",
    "    vector_embedding()\n",
    "    st.write(\"Vector Store DB Is Ready\")"
   ]
  },
  {
   "cell_type": "code",
   "execution_count": null,
   "id": "f5061b35",
   "metadata": {},
   "outputs": [],
   "source": [
    "if prompt1:\n",
    "    document_chain=create_stuff_documents_chain(llm,prompt)\n",
    "    retriever=st.session_state.vectors.as_retriever()\n",
    "    retrieval_chain=create_retrieval_chain(retriever,document_chain)\n",
    "    start=time.process_time()\n",
    "    response=retrieval_chain.invoke({'input':prompt1})\n",
    "    print(\"Response time :\",time.process_time()-start)\n",
    "    st.write(response['answer'])\n",
    "\n",
    "    # With a streamlit expander\n",
    "    with st.expander(\"Document Similarity Search\"):\n",
    "        # Find the relevant chunks\n",
    "        for i, doc in enumerate(response[\"context\"]):\n",
    "            st.write(doc.page_content)\n",
    "            st.write(\"--------------------------------\")"
   ]
  }
 ],
 "metadata": {
  "kernelspec": {
   "display_name": "Python 3 (ipykernel)",
   "language": "python",
   "name": "python3"
  },
  "language_info": {
   "codemirror_mode": {
    "name": "ipython",
    "version": 3
   },
   "file_extension": ".py",
   "mimetype": "text/x-python",
   "name": "python",
   "nbconvert_exporter": "python",
   "pygments_lexer": "ipython3",
   "version": "3.11.4"
  }
 },
 "nbformat": 4,
 "nbformat_minor": 5
}
